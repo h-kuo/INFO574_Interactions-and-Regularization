{
 "cells": [
  {
   "cell_type": "markdown",
   "id": "e2b82c73-84a9-47d0-b2d2-b4ecab56c063",
   "metadata": {},
   "source": [
    "# Lab 07\n",
    "Hao-Tien Kuo\n",
    "## Predicting customer spending"
   ]
  },
  {
   "cell_type": "code",
   "execution_count": 1,
   "id": "73434a85-6c19-4fd6-a23a-a06a10558d03",
   "metadata": {},
   "outputs": [],
   "source": [
    "import numpy as np\n",
    "import pandas as pd\n",
    "import statistics\n",
    "from scipy import stats\n",
    "import statsmodels.api as sm\n",
    "import seaborn as sns\n",
    "import matplotlib.pyplot as plt\n",
    "\n",
    "df = pd.read_csv('lab07_customers.csv')"
   ]
  },
  {
   "cell_type": "code",
   "execution_count": 2,
   "id": "d0cb6624-6654-44d8-8abf-08843e88dbb7",
   "metadata": {},
   "outputs": [
    {
     "data": {
      "text/html": [
       "<div>\n",
       "<style scoped>\n",
       "    .dataframe tbody tr th:only-of-type {\n",
       "        vertical-align: middle;\n",
       "    }\n",
       "\n",
       "    .dataframe tbody tr th {\n",
       "        vertical-align: top;\n",
       "    }\n",
       "\n",
       "    .dataframe thead th {\n",
       "        text-align: right;\n",
       "    }\n",
       "</style>\n",
       "<table border=\"1\" class=\"dataframe\">\n",
       "  <thead>\n",
       "    <tr style=\"text-align: right;\">\n",
       "      <th></th>\n",
       "      <th>spend</th>\n",
       "      <th>race</th>\n",
       "      <th>income</th>\n",
       "      <th>age</th>\n",
       "      <th>sex</th>\n",
       "      <th>schoolYears</th>\n",
       "    </tr>\n",
       "  </thead>\n",
       "  <tbody>\n",
       "    <tr>\n",
       "      <th>0</th>\n",
       "      <td>715.243646</td>\n",
       "      <td>white</td>\n",
       "      <td>38511.0</td>\n",
       "      <td>34.0</td>\n",
       "      <td>male</td>\n",
       "      <td>0.0</td>\n",
       "    </tr>\n",
       "    <tr>\n",
       "      <th>1</th>\n",
       "      <td>883.720255</td>\n",
       "      <td>other</td>\n",
       "      <td>280882.0</td>\n",
       "      <td>38.0</td>\n",
       "      <td>male</td>\n",
       "      <td>0.0</td>\n",
       "    </tr>\n",
       "    <tr>\n",
       "      <th>2</th>\n",
       "      <td>755.915697</td>\n",
       "      <td>white</td>\n",
       "      <td>160952.0</td>\n",
       "      <td>48.0</td>\n",
       "      <td>female</td>\n",
       "      <td>0.0</td>\n",
       "    </tr>\n",
       "    <tr>\n",
       "      <th>3</th>\n",
       "      <td>652.697972</td>\n",
       "      <td>white</td>\n",
       "      <td>73221.0</td>\n",
       "      <td>32.0</td>\n",
       "      <td>male</td>\n",
       "      <td>0.0</td>\n",
       "    </tr>\n",
       "    <tr>\n",
       "      <th>4</th>\n",
       "      <td>575.359129</td>\n",
       "      <td>white</td>\n",
       "      <td>17415.0</td>\n",
       "      <td>29.0</td>\n",
       "      <td>male</td>\n",
       "      <td>0.0</td>\n",
       "    </tr>\n",
       "  </tbody>\n",
       "</table>\n",
       "</div>"
      ],
      "text/plain": [
       "        spend   race    income   age     sex  schoolYears\n",
       "0  715.243646  white   38511.0  34.0    male          0.0\n",
       "1  883.720255  other  280882.0  38.0    male          0.0\n",
       "2  755.915697  white  160952.0  48.0  female          0.0\n",
       "3  652.697972  white   73221.0  32.0    male          0.0\n",
       "4  575.359129  white   17415.0  29.0    male          0.0"
      ]
     },
     "execution_count": 2,
     "metadata": {},
     "output_type": "execute_result"
    }
   ],
   "source": [
    "df.head()"
   ]
  },
  {
   "cell_type": "code",
   "execution_count": 3,
   "id": "2ce63ae5-f31e-4034-a848-8d898a6f4bad",
   "metadata": {},
   "outputs": [
    {
     "data": {
      "text/plain": [
       "spend          0\n",
       "race           0\n",
       "income         0\n",
       "age            0\n",
       "sex            0\n",
       "schoolYears    0\n",
       "dtype: int64"
      ]
     },
     "execution_count": 3,
     "metadata": {},
     "output_type": "execute_result"
    }
   ],
   "source": [
    "df.isnull().sum()"
   ]
  },
  {
   "cell_type": "code",
   "execution_count": 4,
   "id": "84f23d10-eae3-44de-b223-262f4a4667a1",
   "metadata": {},
   "outputs": [
    {
     "data": {
      "text/html": [
       "<div>\n",
       "<style scoped>\n",
       "    .dataframe tbody tr th:only-of-type {\n",
       "        vertical-align: middle;\n",
       "    }\n",
       "\n",
       "    .dataframe tbody tr th {\n",
       "        vertical-align: top;\n",
       "    }\n",
       "\n",
       "    .dataframe thead th {\n",
       "        text-align: right;\n",
       "    }\n",
       "</style>\n",
       "<table border=\"1\" class=\"dataframe\">\n",
       "  <thead>\n",
       "    <tr style=\"text-align: right;\">\n",
       "      <th></th>\n",
       "      <th>spend</th>\n",
       "      <th>income</th>\n",
       "      <th>age</th>\n",
       "      <th>schoolYears</th>\n",
       "    </tr>\n",
       "  </thead>\n",
       "  <tbody>\n",
       "    <tr>\n",
       "      <th>count</th>\n",
       "      <td>10000.000000</td>\n",
       "      <td>1.000000e+04</td>\n",
       "      <td>10000.000000</td>\n",
       "      <td>10000.000000</td>\n",
       "    </tr>\n",
       "    <tr>\n",
       "      <th>mean</th>\n",
       "      <td>756.861198</td>\n",
       "      <td>8.709950e+04</td>\n",
       "      <td>42.155800</td>\n",
       "      <td>0.033500</td>\n",
       "    </tr>\n",
       "    <tr>\n",
       "      <th>std</th>\n",
       "      <td>116.043318</td>\n",
       "      <td>1.170732e+05</td>\n",
       "      <td>8.961727</td>\n",
       "      <td>0.179947</td>\n",
       "    </tr>\n",
       "    <tr>\n",
       "      <th>min</th>\n",
       "      <td>387.788533</td>\n",
       "      <td>9.020000e+02</td>\n",
       "      <td>21.000000</td>\n",
       "      <td>0.000000</td>\n",
       "    </tr>\n",
       "    <tr>\n",
       "      <th>25%</th>\n",
       "      <td>694.164616</td>\n",
       "      <td>2.668075e+04</td>\n",
       "      <td>34.000000</td>\n",
       "      <td>0.000000</td>\n",
       "    </tr>\n",
       "    <tr>\n",
       "      <th>50%</th>\n",
       "      <td>762.080140</td>\n",
       "      <td>5.241100e+04</td>\n",
       "      <td>43.000000</td>\n",
       "      <td>0.000000</td>\n",
       "    </tr>\n",
       "    <tr>\n",
       "      <th>75%</th>\n",
       "      <td>820.094031</td>\n",
       "      <td>1.025250e+05</td>\n",
       "      <td>50.000000</td>\n",
       "      <td>0.000000</td>\n",
       "    </tr>\n",
       "    <tr>\n",
       "      <th>max</th>\n",
       "      <td>1372.150816</td>\n",
       "      <td>2.100000e+06</td>\n",
       "      <td>65.000000</td>\n",
       "      <td>1.000000</td>\n",
       "    </tr>\n",
       "  </tbody>\n",
       "</table>\n",
       "</div>"
      ],
      "text/plain": [
       "              spend        income           age   schoolYears\n",
       "count  10000.000000  1.000000e+04  10000.000000  10000.000000\n",
       "mean     756.861198  8.709950e+04     42.155800      0.033500\n",
       "std      116.043318  1.170732e+05      8.961727      0.179947\n",
       "min      387.788533  9.020000e+02     21.000000      0.000000\n",
       "25%      694.164616  2.668075e+04     34.000000      0.000000\n",
       "50%      762.080140  5.241100e+04     43.000000      0.000000\n",
       "75%      820.094031  1.025250e+05     50.000000      0.000000\n",
       "max     1372.150816  2.100000e+06     65.000000      1.000000"
      ]
     },
     "execution_count": 4,
     "metadata": {},
     "output_type": "execute_result"
    }
   ],
   "source": [
    "df.describe()"
   ]
  },
  {
   "cell_type": "code",
   "execution_count": 5,
   "id": "47700287-e6bb-4acd-9c99-d20bb77f2b3c",
   "metadata": {},
   "outputs": [
    {
     "data": {
      "text/plain": [
       "white       5702\n",
       "hispanic    1350\n",
       "black       1168\n",
       "other       1131\n",
       "asian        649\n",
       "Name: race, dtype: int64"
      ]
     },
     "execution_count": 5,
     "metadata": {},
     "output_type": "execute_result"
    }
   ],
   "source": [
    "df['race'].value_counts()"
   ]
  },
  {
   "cell_type": "code",
   "execution_count": 6,
   "id": "348edc2c-6858-4af0-804a-63d8af62b8bf",
   "metadata": {},
   "outputs": [
    {
     "data": {
      "text/plain": [
       "female    5105\n",
       "male      4883\n",
       "other       12\n",
       "Name: sex, dtype: int64"
      ]
     },
     "execution_count": 6,
     "metadata": {},
     "output_type": "execute_result"
    }
   ],
   "source": [
    "df['sex'].value_counts()"
   ]
  },
  {
   "cell_type": "code",
   "execution_count": 7,
   "id": "51350856-6be2-433b-b882-2ef2dc9ba31d",
   "metadata": {},
   "outputs": [
    {
     "data": {
      "image/png": "[encoded data removed]",
      "text/plain": [
       "<Figure size 432x288 with 1 Axes>"
      ]
     },
     "metadata": {
      "needs_background": "light"
     },
     "output_type": "display_data"
    }
   ],
   "source": [
    "# Transform Income so that it looks more normal\n",
    "\n",
    "sns.histplot(data=df, x='income')\n",
    "plt.show()\n",
    "\n",
    "# Income seems to be right-skewed"
   ]
  },
  {
   "cell_type": "code",
   "execution_count": 8,
   "id": "cea7e349-0e91-4545-99f6-92fcf99e0b36",
   "metadata": {},
   "outputs": [
    {
     "data": {
      "image/png": "[encoded data removed]",
      "text/plain": [
       "<Figure size 432x288 with 1 Axes>"
      ]
     },
     "metadata": {
      "needs_background": "light"
     },
     "output_type": "display_data"
    }
   ],
   "source": [
    "sns.histplot(data=df, x='income', kde=True, log_scale=True)\n",
    "plt.show()\n",
    "\n",
    "# Log transformation would make the distribution more normal"
   ]
  },
  {
   "cell_type": "code",
   "execution_count": 9,
   "id": "5a2ac1a1-78fb-4b99-9fbf-803df0c7140e",
   "metadata": {},
   "outputs": [],
   "source": [
    "df['income'] = np.log(df['income'])"
   ]
  },
  {
   "cell_type": "code",
   "execution_count": 10,
   "id": "fe28b896-c2b5-45c9-a8b1-93afdfcc35e0",
   "metadata": {},
   "outputs": [
    {
     "data": {
      "text/plain": [
       "race\n",
       "asian       818.565036\n",
       "black       648.428084\n",
       "hispanic    824.617968\n",
       "other       751.173088\n",
       "white       757.135785\n",
       "Name: spend, dtype: float64"
      ]
     },
     "execution_count": 10,
     "metadata": {},
     "output_type": "execute_result"
    }
   ],
   "source": [
    "# Compute average spending by race\n",
    "\n",
    "df.groupby('race')['spend'].mean()"
   ]
  },
  {
   "cell_type": "code",
   "execution_count": 11,
   "id": "26cadb6d-0866-4d7e-ba46-cf8e3f40c646",
   "metadata": {},
   "outputs": [
    {
     "data": {
      "image/png": "[encoded data removed]",
      "text/plain": [
       "<Figure size 432x288 with 1 Axes>"
      ]
     },
     "metadata": {
      "needs_background": "light"
     },
     "output_type": "display_data"
    }
   ],
   "source": [
    "sns.barplot(data=df, x='race', y='spend')\n",
    "plt.show()"
   ]
  },
  {
   "cell_type": "code",
   "execution_count": 12,
   "id": "53bd4f44-6d03-4d77-877c-acca9ccd3e20",
   "metadata": {},
   "outputs": [
    {
     "data": {
      "text/plain": [
       "sex\n",
       "female    756.432118\n",
       "male      757.865659\n",
       "other     530.667378\n",
       "Name: spend, dtype: float64"
      ]
     },
     "execution_count": 12,
     "metadata": {},
     "output_type": "execute_result"
    }
   ],
   "source": [
    "# Compute average spending by sex\n",
    "\n",
    "df.groupby('sex')['spend'].mean()"
   ]
  },
  {
   "cell_type": "code",
   "execution_count": 13,
   "id": "05f8897d-8978-4935-a97b-aff8773222c2",
   "metadata": {},
   "outputs": [
    {
     "data": {
      "image/png": "[encoded data removed]",
      "text/plain": [
       "<Figure size 432x288 with 1 Axes>"
      ]
     },
     "metadata": {
      "needs_background": "light"
     },
     "output_type": "display_data"
    }
   ],
   "source": [
    "sns.barplot(data=df, x='sex', y='spend')\n",
    "plt.show()"
   ]
  },
  {
   "cell_type": "code",
   "execution_count": 14,
   "id": "2be3854b-918d-4bb5-9f60-888e34980ec9",
   "metadata": {},
   "outputs": [
    {
     "data": {
      "image/png": "[encoded data removed]",
      "text/plain": [
       "<Figure size 432x288 with 1 Axes>"
      ]
     },
     "metadata": {
      "needs_background": "light"
     },
     "output_type": "display_data"
    }
   ],
   "source": [
    "# We have reason to believe that groups of Hispanic Men and Black Women spend differently from other groups, and from each other. \n",
    "# Hint you may want to dummy code the variables to make interpretation easier.\n",
    "\n",
    "sns.barplot(data=df, x='race', y='spend', hue='sex')\n",
    "plt.show()"
   ]
  },
  {
   "cell_type": "code",
   "execution_count": 15,
   "id": "57d66c6c-fdff-4330-91f4-b042cfbdda02",
   "metadata": {},
   "outputs": [
    {
     "data": {
      "text/html": [
       "<div>\n",
       "<style scoped>\n",
       "    .dataframe tbody tr th:only-of-type {\n",
       "        vertical-align: middle;\n",
       "    }\n",
       "\n",
       "    .dataframe tbody tr th {\n",
       "        vertical-align: top;\n",
       "    }\n",
       "\n",
       "    .dataframe thead th {\n",
       "        text-align: right;\n",
       "    }\n",
       "</style>\n",
       "<table border=\"1\" class=\"dataframe\">\n",
       "  <thead>\n",
       "    <tr style=\"text-align: right;\">\n",
       "      <th></th>\n",
       "      <th>spend</th>\n",
       "      <th>income</th>\n",
       "      <th>age</th>\n",
       "      <th>schoolYears</th>\n",
       "      <th>race_asian</th>\n",
       "      <th>race_black</th>\n",
       "      <th>race_hispanic</th>\n",
       "      <th>race_other</th>\n",
       "      <th>race_white</th>\n",
       "      <th>sex_female</th>\n",
       "      <th>sex_male</th>\n",
       "      <th>sex_other</th>\n",
       "    </tr>\n",
       "  </thead>\n",
       "  <tbody>\n",
       "    <tr>\n",
       "      <th>0</th>\n",
       "      <td>715.243646</td>\n",
       "      <td>10.558699</td>\n",
       "      <td>34.0</td>\n",
       "      <td>0.0</td>\n",
       "      <td>0</td>\n",
       "      <td>0</td>\n",
       "      <td>0</td>\n",
       "      <td>0</td>\n",
       "      <td>1</td>\n",
       "      <td>0</td>\n",
       "      <td>1</td>\n",
       "      <td>0</td>\n",
       "    </tr>\n",
       "    <tr>\n",
       "      <th>1</th>\n",
       "      <td>883.720255</td>\n",
       "      <td>12.545690</td>\n",
       "      <td>38.0</td>\n",
       "      <td>0.0</td>\n",
       "      <td>0</td>\n",
       "      <td>0</td>\n",
       "      <td>0</td>\n",
       "      <td>1</td>\n",
       "      <td>0</td>\n",
       "      <td>0</td>\n",
       "      <td>1</td>\n",
       "      <td>0</td>\n",
       "    </tr>\n",
       "    <tr>\n",
       "      <th>2</th>\n",
       "      <td>755.915697</td>\n",
       "      <td>11.988861</td>\n",
       "      <td>48.0</td>\n",
       "      <td>0.0</td>\n",
       "      <td>0</td>\n",
       "      <td>0</td>\n",
       "      <td>0</td>\n",
       "      <td>0</td>\n",
       "      <td>1</td>\n",
       "      <td>1</td>\n",
       "      <td>0</td>\n",
       "      <td>0</td>\n",
       "    </tr>\n",
       "    <tr>\n",
       "      <th>3</th>\n",
       "      <td>652.697972</td>\n",
       "      <td>11.201238</td>\n",
       "      <td>32.0</td>\n",
       "      <td>0.0</td>\n",
       "      <td>0</td>\n",
       "      <td>0</td>\n",
       "      <td>0</td>\n",
       "      <td>0</td>\n",
       "      <td>1</td>\n",
       "      <td>0</td>\n",
       "      <td>1</td>\n",
       "      <td>0</td>\n",
       "    </tr>\n",
       "    <tr>\n",
       "      <th>4</th>\n",
       "      <td>575.359129</td>\n",
       "      <td>9.765087</td>\n",
       "      <td>29.0</td>\n",
       "      <td>0.0</td>\n",
       "      <td>0</td>\n",
       "      <td>0</td>\n",
       "      <td>0</td>\n",
       "      <td>0</td>\n",
       "      <td>1</td>\n",
       "      <td>0</td>\n",
       "      <td>1</td>\n",
       "      <td>0</td>\n",
       "    </tr>\n",
       "  </tbody>\n",
       "</table>\n",
       "</div>"
      ],
      "text/plain": [
       "        spend     income   age  schoolYears  race_asian  race_black  \\\n",
       "0  715.243646  10.558699  34.0          0.0           0           0   \n",
       "1  883.720255  12.545690  38.0          0.0           0           0   \n",
       "2  755.915697  11.988861  48.0          0.0           0           0   \n",
       "3  652.697972  11.201238  32.0          0.0           0           0   \n",
       "4  575.359129   9.765087  29.0          0.0           0           0   \n",
       "\n",
       "   race_hispanic  race_other  race_white  sex_female  sex_male  sex_other  \n",
       "0              0           0           1           0         1          0  \n",
       "1              0           1           0           0         1          0  \n",
       "2              0           0           1           1         0          0  \n",
       "3              0           0           1           0         1          0  \n",
       "4              0           0           1           0         1          0  "
      ]
     },
     "execution_count": 15,
     "metadata": {},
     "output_type": "execute_result"
    }
   ],
   "source": [
    "df_2 = pd.get_dummies(df)\n",
    "\n",
    "df_2.head()"
   ]
  },
  {
   "cell_type": "code",
   "execution_count": 16,
   "id": "c8619381-99ef-4919-a1ae-66e636459460",
   "metadata": {},
   "outputs": [
    {
     "data": {
      "text/html": [
       "<div>\n",
       "<style scoped>\n",
       "    .dataframe tbody tr th:only-of-type {\n",
       "        vertical-align: middle;\n",
       "    }\n",
       "\n",
       "    .dataframe tbody tr th {\n",
       "        vertical-align: top;\n",
       "    }\n",
       "\n",
       "    .dataframe thead th {\n",
       "        text-align: right;\n",
       "    }\n",
       "</style>\n",
       "<table border=\"1\" class=\"dataframe\">\n",
       "  <thead>\n",
       "    <tr style=\"text-align: right;\">\n",
       "      <th></th>\n",
       "      <th>spend</th>\n",
       "      <th>income</th>\n",
       "      <th>age</th>\n",
       "      <th>schoolYears</th>\n",
       "      <th>race_asian</th>\n",
       "      <th>race_black</th>\n",
       "      <th>race_hispanic</th>\n",
       "      <th>race_other</th>\n",
       "      <th>race_white</th>\n",
       "      <th>sex_female</th>\n",
       "      <th>sex_male</th>\n",
       "      <th>sex_other</th>\n",
       "      <th>hispanic_men</th>\n",
       "      <th>black_women</th>\n",
       "    </tr>\n",
       "  </thead>\n",
       "  <tbody>\n",
       "    <tr>\n",
       "      <th>0</th>\n",
       "      <td>715.243646</td>\n",
       "      <td>10.558699</td>\n",
       "      <td>34.0</td>\n",
       "      <td>0.0</td>\n",
       "      <td>0</td>\n",
       "      <td>0</td>\n",
       "      <td>0</td>\n",
       "      <td>0</td>\n",
       "      <td>1</td>\n",
       "      <td>0</td>\n",
       "      <td>1</td>\n",
       "      <td>0</td>\n",
       "      <td>0</td>\n",
       "      <td>0</td>\n",
       "    </tr>\n",
       "    <tr>\n",
       "      <th>1</th>\n",
       "      <td>883.720255</td>\n",
       "      <td>12.545690</td>\n",
       "      <td>38.0</td>\n",
       "      <td>0.0</td>\n",
       "      <td>0</td>\n",
       "      <td>0</td>\n",
       "      <td>0</td>\n",
       "      <td>1</td>\n",
       "      <td>0</td>\n",
       "      <td>0</td>\n",
       "      <td>1</td>\n",
       "      <td>0</td>\n",
       "      <td>0</td>\n",
       "      <td>0</td>\n",
       "    </tr>\n",
       "    <tr>\n",
       "      <th>2</th>\n",
       "      <td>755.915697</td>\n",
       "      <td>11.988861</td>\n",
       "      <td>48.0</td>\n",
       "      <td>0.0</td>\n",
       "      <td>0</td>\n",
       "      <td>0</td>\n",
       "      <td>0</td>\n",
       "      <td>0</td>\n",
       "      <td>1</td>\n",
       "      <td>1</td>\n",
       "      <td>0</td>\n",
       "      <td>0</td>\n",
       "      <td>0</td>\n",
       "      <td>0</td>\n",
       "    </tr>\n",
       "    <tr>\n",
       "      <th>3</th>\n",
       "      <td>652.697972</td>\n",
       "      <td>11.201238</td>\n",
       "      <td>32.0</td>\n",
       "      <td>0.0</td>\n",
       "      <td>0</td>\n",
       "      <td>0</td>\n",
       "      <td>0</td>\n",
       "      <td>0</td>\n",
       "      <td>1</td>\n",
       "      <td>0</td>\n",
       "      <td>1</td>\n",
       "      <td>0</td>\n",
       "      <td>0</td>\n",
       "      <td>0</td>\n",
       "    </tr>\n",
       "    <tr>\n",
       "      <th>4</th>\n",
       "      <td>575.359129</td>\n",
       "      <td>9.765087</td>\n",
       "      <td>29.0</td>\n",
       "      <td>0.0</td>\n",
       "      <td>0</td>\n",
       "      <td>0</td>\n",
       "      <td>0</td>\n",
       "      <td>0</td>\n",
       "      <td>1</td>\n",
       "      <td>0</td>\n",
       "      <td>1</td>\n",
       "      <td>0</td>\n",
       "      <td>0</td>\n",
       "      <td>0</td>\n",
       "    </tr>\n",
       "  </tbody>\n",
       "</table>\n",
       "</div>"
      ],
      "text/plain": [
       "        spend     income   age  schoolYears  race_asian  race_black  \\\n",
       "0  715.243646  10.558699  34.0          0.0           0           0   \n",
       "1  883.720255  12.545690  38.0          0.0           0           0   \n",
       "2  755.915697  11.988861  48.0          0.0           0           0   \n",
       "3  652.697972  11.201238  32.0          0.0           0           0   \n",
       "4  575.359129   9.765087  29.0          0.0           0           0   \n",
       "\n",
       "   race_hispanic  race_other  race_white  sex_female  sex_male  sex_other  \\\n",
       "0              0           0           1           0         1          0   \n",
       "1              0           1           0           0         1          0   \n",
       "2              0           0           1           1         0          0   \n",
       "3              0           0           1           0         1          0   \n",
       "4              0           0           1           0         1          0   \n",
       "\n",
       "   hispanic_men  black_women  \n",
       "0             0            0  \n",
       "1             0            0  \n",
       "2             0            0  \n",
       "3             0            0  \n",
       "4             0            0  "
      ]
     },
     "execution_count": 16,
     "metadata": {},
     "output_type": "execute_result"
    }
   ],
   "source": [
    "df_2['hispanic_men'] = df_2['race_hispanic'] * df_2['sex_male']\n",
    "df_2['black_women'] = df_2['race_black'] * df_2['sex_female']\n",
    "\n",
    "df_2.head()"
   ]
  },
  {
   "cell_type": "code",
   "execution_count": 17,
   "id": "f5c27dcd-0f94-4732-bf43-638c73df22cb",
   "metadata": {},
   "outputs": [
    {
     "data": {
      "image/png": "[encoded data removed]",
      "text/plain": [
       "<Figure size 432x288 with 1 Axes>"
      ]
     },
     "metadata": {
      "needs_background": "light"
     },
     "output_type": "display_data"
    }
   ],
   "source": [
    "# We also believe that Asian Women with Higher education are great customers (spend more).\n",
    "\n",
    "sns.histplot(data=df_2, x='schoolYears')\n",
    "plt.show()"
   ]
  },
  {
   "cell_type": "code",
   "execution_count": 18,
   "id": "b964c21f-c5a3-4433-9b14-ff3e75421267",
   "metadata": {},
   "outputs": [
    {
     "data": {
      "text/plain": [
       "0.0    9665\n",
       "1.0     335\n",
       "Name: schoolYears, dtype: int64"
      ]
     },
     "execution_count": 18,
     "metadata": {},
     "output_type": "execute_result"
    }
   ],
   "source": [
    "df_2['schoolYears'].value_counts()"
   ]
  },
  {
   "cell_type": "code",
   "execution_count": 19,
   "id": "114495bb-8a07-4c17-ad95-699fcd2201ab",
   "metadata": {},
   "outputs": [
    {
     "data": {
      "text/html": [
       "<div>\n",
       "<style scoped>\n",
       "    .dataframe tbody tr th:only-of-type {\n",
       "        vertical-align: middle;\n",
       "    }\n",
       "\n",
       "    .dataframe tbody tr th {\n",
       "        vertical-align: top;\n",
       "    }\n",
       "\n",
       "    .dataframe thead th {\n",
       "        text-align: right;\n",
       "    }\n",
       "</style>\n",
       "<table border=\"1\" class=\"dataframe\">\n",
       "  <thead>\n",
       "    <tr style=\"text-align: right;\">\n",
       "      <th></th>\n",
       "      <th>spend</th>\n",
       "      <th>income</th>\n",
       "      <th>age</th>\n",
       "      <th>schoolYears</th>\n",
       "      <th>race_asian</th>\n",
       "      <th>race_black</th>\n",
       "      <th>race_hispanic</th>\n",
       "      <th>race_other</th>\n",
       "      <th>race_white</th>\n",
       "      <th>sex_female</th>\n",
       "      <th>sex_male</th>\n",
       "      <th>sex_other</th>\n",
       "      <th>hispanic_men</th>\n",
       "      <th>black_women</th>\n",
       "      <th>asian_women_high_edu</th>\n",
       "    </tr>\n",
       "  </thead>\n",
       "  <tbody>\n",
       "    <tr>\n",
       "      <th>0</th>\n",
       "      <td>715.243646</td>\n",
       "      <td>10.558699</td>\n",
       "      <td>34.0</td>\n",
       "      <td>0.0</td>\n",
       "      <td>0</td>\n",
       "      <td>0</td>\n",
       "      <td>0</td>\n",
       "      <td>0</td>\n",
       "      <td>1</td>\n",
       "      <td>0</td>\n",
       "      <td>1</td>\n",
       "      <td>0</td>\n",
       "      <td>0</td>\n",
       "      <td>0</td>\n",
       "      <td>0.0</td>\n",
       "    </tr>\n",
       "    <tr>\n",
       "      <th>1</th>\n",
       "      <td>883.720255</td>\n",
       "      <td>12.545690</td>\n",
       "      <td>38.0</td>\n",
       "      <td>0.0</td>\n",
       "      <td>0</td>\n",
       "      <td>0</td>\n",
       "      <td>0</td>\n",
       "      <td>1</td>\n",
       "      <td>0</td>\n",
       "      <td>0</td>\n",
       "      <td>1</td>\n",
       "      <td>0</td>\n",
       "      <td>0</td>\n",
       "      <td>0</td>\n",
       "      <td>0.0</td>\n",
       "    </tr>\n",
       "    <tr>\n",
       "      <th>2</th>\n",
       "      <td>755.915697</td>\n",
       "      <td>11.988861</td>\n",
       "      <td>48.0</td>\n",
       "      <td>0.0</td>\n",
       "      <td>0</td>\n",
       "      <td>0</td>\n",
       "      <td>0</td>\n",
       "      <td>0</td>\n",
       "      <td>1</td>\n",
       "      <td>1</td>\n",
       "      <td>0</td>\n",
       "      <td>0</td>\n",
       "      <td>0</td>\n",
       "      <td>0</td>\n",
       "      <td>0.0</td>\n",
       "    </tr>\n",
       "    <tr>\n",
       "      <th>3</th>\n",
       "      <td>652.697972</td>\n",
       "      <td>11.201238</td>\n",
       "      <td>32.0</td>\n",
       "      <td>0.0</td>\n",
       "      <td>0</td>\n",
       "      <td>0</td>\n",
       "      <td>0</td>\n",
       "      <td>0</td>\n",
       "      <td>1</td>\n",
       "      <td>0</td>\n",
       "      <td>1</td>\n",
       "      <td>0</td>\n",
       "      <td>0</td>\n",
       "      <td>0</td>\n",
       "      <td>0.0</td>\n",
       "    </tr>\n",
       "    <tr>\n",
       "      <th>4</th>\n",
       "      <td>575.359129</td>\n",
       "      <td>9.765087</td>\n",
       "      <td>29.0</td>\n",
       "      <td>0.0</td>\n",
       "      <td>0</td>\n",
       "      <td>0</td>\n",
       "      <td>0</td>\n",
       "      <td>0</td>\n",
       "      <td>1</td>\n",
       "      <td>0</td>\n",
       "      <td>1</td>\n",
       "      <td>0</td>\n",
       "      <td>0</td>\n",
       "      <td>0</td>\n",
       "      <td>0.0</td>\n",
       "    </tr>\n",
       "  </tbody>\n",
       "</table>\n",
       "</div>"
      ],
      "text/plain": [
       "        spend     income   age  schoolYears  race_asian  race_black  \\\n",
       "0  715.243646  10.558699  34.0          0.0           0           0   \n",
       "1  883.720255  12.545690  38.0          0.0           0           0   \n",
       "2  755.915697  11.988861  48.0          0.0           0           0   \n",
       "3  652.697972  11.201238  32.0          0.0           0           0   \n",
       "4  575.359129   9.765087  29.0          0.0           0           0   \n",
       "\n",
       "   race_hispanic  race_other  race_white  sex_female  sex_male  sex_other  \\\n",
       "0              0           0           1           0         1          0   \n",
       "1              0           1           0           0         1          0   \n",
       "2              0           0           1           1         0          0   \n",
       "3              0           0           1           0         1          0   \n",
       "4              0           0           1           0         1          0   \n",
       "\n",
       "   hispanic_men  black_women  asian_women_high_edu  \n",
       "0             0            0                   0.0  \n",
       "1             0            0                   0.0  \n",
       "2             0            0                   0.0  \n",
       "3             0            0                   0.0  \n",
       "4             0            0                   0.0  "
      ]
     },
     "execution_count": 19,
     "metadata": {},
     "output_type": "execute_result"
    }
   ],
   "source": [
    "df_2['asian_women_high_edu'] = df_2['race_asian'] * df_2['sex_female'] * df_2['schoolYears']\n",
    "\n",
    "df_2.head()"
   ]
  },
  {
   "cell_type": "code",
   "execution_count": 20,
   "id": "db90f406-5f81-4993-b211-97b2080e496d",
   "metadata": {},
   "outputs": [
    {
     "data": {
      "text/html": [
       "<table class=\"simpletable\">\n",
       "<caption>OLS Regression Results</caption>\n",
       "<tr>\n",
       "  <th>Dep. Variable:</th>          <td>spend</td>      <th>  R-squared:         </th> <td>   0.317</td> \n",
       "</tr>\n",
       "<tr>\n",
       "  <th>Model:</th>                   <td>OLS</td>       <th>  Adj. R-squared:    </th> <td>   0.316</td> \n",
       "</tr>\n",
       "<tr>\n",
       "  <th>Method:</th>             <td>Least Squares</td>  <th>  F-statistic:       </th> <td>   579.5</td> \n",
       "</tr>\n",
       "<tr>\n",
       "  <th>Date:</th>             <td>Thu, 27 Oct 2022</td> <th>  Prob (F-statistic):</th>  <td>  0.00</td>  \n",
       "</tr>\n",
       "<tr>\n",
       "  <th>Time:</th>                 <td>23:18:59</td>     <th>  Log-Likelihood:    </th> <td> -59823.</td> \n",
       "</tr>\n",
       "<tr>\n",
       "  <th>No. Observations:</th>      <td> 10000</td>      <th>  AIC:               </th> <td>1.197e+05</td>\n",
       "</tr>\n",
       "<tr>\n",
       "  <th>Df Residuals:</th>          <td>  9991</td>      <th>  BIC:               </th> <td>1.197e+05</td>\n",
       "</tr>\n",
       "<tr>\n",
       "  <th>Df Model:</th>              <td>     8</td>      <th>                     </th>     <td> </td>    \n",
       "</tr>\n",
       "<tr>\n",
       "  <th>Covariance Type:</th>      <td>nonrobust</td>    <th>                     </th>     <td> </td>    \n",
       "</tr>\n",
       "</table>\n",
       "<table class=\"simpletable\">\n",
       "<tr>\n",
       "            <td></td>              <th>coef</th>     <th>std err</th>      <th>t</th>      <th>P>|t|</th>  <th>[0.025</th>    <th>0.975]</th>  \n",
       "</tr>\n",
       "<tr>\n",
       "  <th>Intercept</th>            <td>  531.9244</td> <td>   27.705</td> <td>   19.200</td> <td> 0.000</td> <td>  477.617</td> <td>  586.232</td>\n",
       "</tr>\n",
       "<tr>\n",
       "  <th>race_hispanic</th>        <td>   -7.5419</td> <td>    3.960</td> <td>   -1.905</td> <td> 0.057</td> <td>  -15.304</td> <td>    0.221</td>\n",
       "</tr>\n",
       "<tr>\n",
       "  <th>sex_male</th>             <td>  206.5115</td> <td>   27.755</td> <td>    7.441</td> <td> 0.000</td> <td>  152.106</td> <td>  260.916</td>\n",
       "</tr>\n",
       "<tr>\n",
       "  <th>race_black</th>           <td>   -5.6772</td> <td>    4.259</td> <td>   -1.333</td> <td> 0.183</td> <td>  -14.025</td> <td>    2.671</td>\n",
       "</tr>\n",
       "<tr>\n",
       "  <th>sex_female</th>           <td>  241.7025</td> <td>   27.737</td> <td>    8.714</td> <td> 0.000</td> <td>  187.333</td> <td>  296.072</td>\n",
       "</tr>\n",
       "<tr>\n",
       "  <th>hispanic_men</th>         <td>  158.4514</td> <td>    5.720</td> <td>   27.700</td> <td> 0.000</td> <td>  147.238</td> <td>  169.664</td>\n",
       "</tr>\n",
       "<tr>\n",
       "  <th>black_women</th>          <td> -208.2984</td> <td>    6.078</td> <td>  -34.269</td> <td> 0.000</td> <td> -220.213</td> <td> -196.384</td>\n",
       "</tr>\n",
       "<tr>\n",
       "  <th>race_asian</th>           <td>    2.9929</td> <td>    5.664</td> <td>    0.528</td> <td> 0.597</td> <td>   -8.110</td> <td>   14.096</td>\n",
       "</tr>\n",
       "<tr>\n",
       "  <th>schoolYears</th>          <td>   57.1231</td> <td>    3.943</td> <td>   14.487</td> <td> 0.000</td> <td>   49.394</td> <td>   64.853</td>\n",
       "</tr>\n",
       "<tr>\n",
       "  <th>asian_women_high_edu</th> <td>   57.1231</td> <td>    3.943</td> <td>   14.487</td> <td> 0.000</td> <td>   49.394</td> <td>   64.853</td>\n",
       "</tr>\n",
       "</table>\n",
       "<table class=\"simpletable\">\n",
       "<tr>\n",
       "  <th>Omnibus:</th>       <td>694.084</td> <th>  Durbin-Watson:     </th> <td>   1.980</td>\n",
       "</tr>\n",
       "<tr>\n",
       "  <th>Prob(Omnibus):</th> <td> 0.000</td>  <th>  Jarque-Bera (JB):  </th> <td>1832.868</td>\n",
       "</tr>\n",
       "<tr>\n",
       "  <th>Skew:</th>          <td> 0.396</td>  <th>  Prob(JB):          </th> <td>    0.00</td>\n",
       "</tr>\n",
       "<tr>\n",
       "  <th>Kurtosis:</th>      <td> 4.942</td>  <th>  Cond. No.          </th> <td>6.86e+16</td>\n",
       "</tr>\n",
       "</table><br/><br/>Notes:<br/>[1] Standard Errors assume that the covariance matrix of the errors is correctly specified.<br/>[2] The smallest eigenvalue is 3.29e-30. This might indicate that there are<br/>strong multicollinearity problems or that the design matrix is singular."
      ],
      "text/plain": [
       "<class 'statsmodels.iolib.summary.Summary'>\n",
       "\"\"\"\n",
       "                            OLS Regression Results                            \n",
       "==============================================================================\n",
       "Dep. Variable:                  spend   R-squared:                       0.317\n",
       "Model:                            OLS   Adj. R-squared:                  0.316\n",
       "Method:                 Least Squares   F-statistic:                     579.5\n",
       "Date:                Thu, 27 Oct 2022   Prob (F-statistic):               0.00\n",
       "Time:                        23:18:59   Log-Likelihood:                -59823.\n",
       "No. Observations:               10000   AIC:                         1.197e+05\n",
       "Df Residuals:                    9991   BIC:                         1.197e+05\n",
       "Df Model:                           8                                         \n",
       "Covariance Type:            nonrobust                                         \n",
       "========================================================================================\n",
       "                           coef    std err          t      P>|t|      [0.025      0.975]\n",
       "----------------------------------------------------------------------------------------\n",
       "Intercept              531.9244     27.705     19.200      0.000     477.617     586.232\n",
       "race_hispanic           -7.5419      3.960     -1.905      0.057     -15.304       0.221\n",
       "sex_male               206.5115     27.755      7.441      0.000     152.106     260.916\n",
       "race_black              -5.6772      4.259     -1.333      0.183     -14.025       2.671\n",
       "sex_female             241.7025     27.737      8.714      0.000     187.333     296.072\n",
       "hispanic_men           158.4514      5.720     27.700      0.000     147.238     169.664\n",
       "black_women           -208.2984      6.078    -34.269      0.000    -220.213    -196.384\n",
       "race_asian               2.9929      5.664      0.528      0.597      -8.110      14.096\n",
       "schoolYears             57.1231      3.943     14.487      0.000      49.394      64.853\n",
       "asian_women_high_edu    57.1231      3.943     14.487      0.000      49.394      64.853\n",
       "==============================================================================\n",
       "Omnibus:                      694.084   Durbin-Watson:                   1.980\n",
       "Prob(Omnibus):                  0.000   Jarque-Bera (JB):             1832.868\n",
       "Skew:                           0.396   Prob(JB):                         0.00\n",
       "Kurtosis:                       4.942   Cond. No.                     6.86e+16\n",
       "==============================================================================\n",
       "\n",
       "Notes:\n",
       "[1] Standard Errors assume that the covariance matrix of the errors is correctly specified.\n",
       "[2] The smallest eigenvalue is 3.29e-30. This might indicate that there are\n",
       "strong multicollinearity problems or that the design matrix is singular.\n",
       "\"\"\""
      ]
     },
     "execution_count": 20,
     "metadata": {},
     "output_type": "execute_result"
    }
   ],
   "source": [
    "# Fit a model to test the hypotheses in steps 4 and 5, report parameter estimates and R2\n",
    "\n",
    "lm1 = sm.OLS.from_formula(formula=\"spend ~ race_hispanic + sex_male + race_black + sex_female + hispanic_men + black_women + race_asian + schoolYears + asian_women_high_edu\", data=df_2).fit()\n",
    "lm1.summary()\n",
    "\n",
    "# parameter estimates: all the variables are statistically significant, except for race_hispanic, race_black, and race_asian\n",
    "# R2: 0.317, indicating that these variables can explain roughly 31.7% of the variation in spending"
   ]
  },
  {
   "cell_type": "code",
   "execution_count": 21,
   "id": "12748386-6dd9-4ec2-a65e-3ade4059f7e0",
   "metadata": {},
   "outputs": [
    {
     "data": {
      "text/html": [
       "<table class=\"simpletable\">\n",
       "<caption>OLS Regression Results</caption>\n",
       "<tr>\n",
       "  <th>Dep. Variable:</th>          <td>spend</td>      <th>  R-squared:         </th> <td>   0.864</td> \n",
       "</tr>\n",
       "<tr>\n",
       "  <th>Model:</th>                   <td>OLS</td>       <th>  Adj. R-squared:    </th> <td>   0.864</td> \n",
       "</tr>\n",
       "<tr>\n",
       "  <th>Method:</th>             <td>Least Squares</td>  <th>  F-statistic:       </th> <td>   6357.</td> \n",
       "</tr>\n",
       "<tr>\n",
       "  <th>Date:</th>             <td>Thu, 27 Oct 2022</td> <th>  Prob (F-statistic):</th>  <td>  0.00</td>  \n",
       "</tr>\n",
       "<tr>\n",
       "  <th>Time:</th>                 <td>23:19:07</td>     <th>  Log-Likelihood:    </th> <td> -51745.</td> \n",
       "</tr>\n",
       "<tr>\n",
       "  <th>No. Observations:</th>      <td> 10000</td>      <th>  AIC:               </th> <td>1.035e+05</td>\n",
       "</tr>\n",
       "<tr>\n",
       "  <th>Df Residuals:</th>          <td>  9989</td>      <th>  BIC:               </th> <td>1.036e+05</td>\n",
       "</tr>\n",
       "<tr>\n",
       "  <th>Df Model:</th>              <td>    10</td>      <th>                     </th>     <td> </td>    \n",
       "</tr>\n",
       "<tr>\n",
       "  <th>Covariance Type:</th>      <td>nonrobust</td>    <th>                     </th>     <td> </td>    \n",
       "</tr>\n",
       "</table>\n",
       "<table class=\"simpletable\">\n",
       "<tr>\n",
       "            <td></td>              <th>coef</th>     <th>std err</th>      <th>t</th>      <th>P>|t|</th>  <th>[0.025</th>    <th>0.975]</th>  \n",
       "</tr>\n",
       "<tr>\n",
       "  <th>Intercept</th>            <td> -243.0146</td> <td>   13.524</td> <td>  -17.969</td> <td> 0.000</td> <td> -269.524</td> <td> -216.505</td>\n",
       "</tr>\n",
       "<tr>\n",
       "  <th>income</th>               <td>   16.7252</td> <td>    0.427</td> <td>   39.176</td> <td> 0.000</td> <td>   15.888</td> <td>   17.562</td>\n",
       "</tr>\n",
       "<tr>\n",
       "  <th>age</th>                  <td>   20.7167</td> <td>    0.105</td> <td>  196.694</td> <td> 0.000</td> <td>   20.510</td> <td>   20.923</td>\n",
       "</tr>\n",
       "<tr>\n",
       "  <th>race_hispanic</th>        <td>   -2.9941</td> <td>    1.766</td> <td>   -1.695</td> <td> 0.090</td> <td>   -6.456</td> <td>    0.468</td>\n",
       "</tr>\n",
       "<tr>\n",
       "  <th>sex_male</th>             <td>   95.1657</td> <td>   12.389</td> <td>    7.681</td> <td> 0.000</td> <td>   70.881</td> <td>  119.451</td>\n",
       "</tr>\n",
       "<tr>\n",
       "  <th>race_black</th>           <td>   -4.7053</td> <td>    1.899</td> <td>   -2.478</td> <td> 0.013</td> <td>   -8.428</td> <td>   -0.983</td>\n",
       "</tr>\n",
       "<tr>\n",
       "  <th>sex_female</th>           <td> -201.1800</td> <td>   12.570</td> <td>  -16.004</td> <td> 0.000</td> <td> -225.820</td> <td> -176.540</td>\n",
       "</tr>\n",
       "<tr>\n",
       "  <th>hispanic_men</th>         <td>  151.0466</td> <td>    2.551</td> <td>   59.207</td> <td> 0.000</td> <td>  146.046</td> <td>  156.047</td>\n",
       "</tr>\n",
       "<tr>\n",
       "  <th>black_women</th>          <td> -209.5992</td> <td>    2.711</td> <td>  -77.326</td> <td> 0.000</td> <td> -214.913</td> <td> -204.286</td>\n",
       "</tr>\n",
       "<tr>\n",
       "  <th>race_asian</th>           <td>    4.2682</td> <td>    2.526</td> <td>    1.690</td> <td> 0.091</td> <td>   -0.683</td> <td>    9.220</td>\n",
       "</tr>\n",
       "<tr>\n",
       "  <th>schoolYears</th>          <td>   57.5775</td> <td>    1.758</td> <td>   32.744</td> <td> 0.000</td> <td>   54.131</td> <td>   61.024</td>\n",
       "</tr>\n",
       "<tr>\n",
       "  <th>asian_women_high_edu</th> <td>   57.5775</td> <td>    1.758</td> <td>   32.744</td> <td> 0.000</td> <td>   54.131</td> <td>   61.024</td>\n",
       "</tr>\n",
       "</table>\n",
       "<table class=\"simpletable\">\n",
       "<tr>\n",
       "  <th>Omnibus:</th>       <td>478.162</td> <th>  Durbin-Watson:     </th> <td>   2.005</td> \n",
       "</tr>\n",
       "<tr>\n",
       "  <th>Prob(Omnibus):</th> <td> 0.000</td>  <th>  Jarque-Bera (JB):  </th> <td> 622.330</td> \n",
       "</tr>\n",
       "<tr>\n",
       "  <th>Skew:</th>          <td> 0.481</td>  <th>  Prob(JB):          </th> <td>7.29e-136</td>\n",
       "</tr>\n",
       "<tr>\n",
       "  <th>Kurtosis:</th>      <td> 3.753</td>  <th>  Cond. No.          </th> <td>1.78e+18</td> \n",
       "</tr>\n",
       "</table><br/><br/>Notes:<br/>[1] Standard Errors assume that the covariance matrix of the errors is correctly specified.<br/>[2] The smallest eigenvalue is 6.24e-30. This might indicate that there are<br/>strong multicollinearity problems or that the design matrix is singular."
      ],
      "text/plain": [
       "<class 'statsmodels.iolib.summary.Summary'>\n",
       "\"\"\"\n",
       "                            OLS Regression Results                            \n",
       "==============================================================================\n",
       "Dep. Variable:                  spend   R-squared:                       0.864\n",
       "Model:                            OLS   Adj. R-squared:                  0.864\n",
       "Method:                 Least Squares   F-statistic:                     6357.\n",
       "Date:                Thu, 27 Oct 2022   Prob (F-statistic):               0.00\n",
       "Time:                        23:19:07   Log-Likelihood:                -51745.\n",
       "No. Observations:               10000   AIC:                         1.035e+05\n",
       "Df Residuals:                    9989   BIC:                         1.036e+05\n",
       "Df Model:                          10                                         \n",
       "Covariance Type:            nonrobust                                         \n",
       "========================================================================================\n",
       "                           coef    std err          t      P>|t|      [0.025      0.975]\n",
       "----------------------------------------------------------------------------------------\n",
       "Intercept             -243.0146     13.524    -17.969      0.000    -269.524    -216.505\n",
       "income                  16.7252      0.427     39.176      0.000      15.888      17.562\n",
       "age                     20.7167      0.105    196.694      0.000      20.510      20.923\n",
       "race_hispanic           -2.9941      1.766     -1.695      0.090      -6.456       0.468\n",
       "sex_male                95.1657     12.389      7.681      0.000      70.881     119.451\n",
       "race_black              -4.7053      1.899     -2.478      0.013      -8.428      -0.983\n",
       "sex_female            -201.1800     12.570    -16.004      0.000    -225.820    -176.540\n",
       "hispanic_men           151.0466      2.551     59.207      0.000     146.046     156.047\n",
       "black_women           -209.5992      2.711    -77.326      0.000    -214.913    -204.286\n",
       "race_asian               4.2682      2.526      1.690      0.091      -0.683       9.220\n",
       "schoolYears             57.5775      1.758     32.744      0.000      54.131      61.024\n",
       "asian_women_high_edu    57.5775      1.758     32.744      0.000      54.131      61.024\n",
       "==============================================================================\n",
       "Omnibus:                      478.162   Durbin-Watson:                   2.005\n",
       "Prob(Omnibus):                  0.000   Jarque-Bera (JB):              622.330\n",
       "Skew:                           0.481   Prob(JB):                    7.29e-136\n",
       "Kurtosis:                       3.753   Cond. No.                     1.78e+18\n",
       "==============================================================================\n",
       "\n",
       "Notes:\n",
       "[1] Standard Errors assume that the covariance matrix of the errors is correctly specified.\n",
       "[2] The smallest eigenvalue is 6.24e-30. This might indicate that there are\n",
       "strong multicollinearity problems or that the design matrix is singular.\n",
       "\"\"\""
      ]
     },
     "execution_count": 21,
     "metadata": {},
     "output_type": "execute_result"
    }
   ],
   "source": [
    "# Of course income, and age probably play a factor in spending, so let’s include those, report parameter estimates and R2\n",
    "\n",
    "lm2 = sm.OLS.from_formula(formula=\"spend ~ income + age + race_hispanic + sex_male + race_black + sex_female + hispanic_men + black_women + race_asian + schoolYears + asian_women_high_edu\", data=df_2).fit()\n",
    "lm2.summary()\n",
    "\n",
    "# parameter estimates: all the variables are statistically significant, except for race_hispanic and race_asian\n",
    "# R2: 0.864, indicating that these variables can explain roughly 86.4% of the variation in spending"
   ]
  },
  {
   "cell_type": "markdown",
   "id": "1b268e1b-ef31-42a3-a715-ded703aef7fb",
   "metadata": {},
   "source": [
    "### Describe the findings from your model:\n",
    "- R2 increases from 0.31 to 0.86 by including income and age into the model, meaning that those two variables can explain a large amount of variation in spending.\n",
    "- In the second model, race_black shows a smaller p-value and is now significant. However, race_hispanic and race_asian are still insignificant.\n",
    "- We can accept all three of our H1 hypothesis, since hispanic_men, black_women, and asian_women_high_edu are all significant. Interactions exist between those variables chosen.\n",
    "    - Hispanic Men and Black Women spend differently from the baseline and from each other. \n",
    "        - Hispanic Men spend even more than average men. \n",
    "        - Black Women spend even less than average women.\n",
    "    - Asian Women with Higher education spend more that the baseline."
   ]
  },
  {
   "cell_type": "code",
   "execution_count": null,
   "id": "9e26744a-a4a6-47a5-8715-d1fbdab63164",
   "metadata": {},
   "outputs": [],
   "source": []
  }
 ],
 "metadata": {
  "kernelspec": {
   "display_name": "Python 3",
   "language": "python",
   "name": "python3"
  },
  "language_info": {
   "codemirror_mode": {
    "name": "ipython",
    "version": 3
   },
   "file_extension": ".py",
   "mimetype": "text/x-python",
   "name": "python",
   "nbconvert_exporter": "python",
   "pygments_lexer": "ipython3",
   "version": "3.8.8"
  }
 },
 "nbformat": 4,
 "nbformat_minor": 5
}
